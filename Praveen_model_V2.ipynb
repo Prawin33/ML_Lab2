{
  "cells": [
    {
      "cell_type": "code",
      "execution_count": 5,
      "metadata": {
        "colab": {
          "base_uri": "https://localhost:8080/"
        },
        "id": "z5vVJL2pYCZ5",
        "outputId": "45bb6c94-93ae-4cd8-cc30-ad1173a5bb5a"
      },
      "outputs": [
        {
          "name": "stdout",
          "output_type": "stream",
          "text": [
            "Collecting yfinance==0.1.80\n",
            "  Downloading yfinance-0.1.80-py2.py3-none-any.whl (29 kB)\n",
            "Requirement already satisfied: pandas>=0.24.0 in /usr/local/lib/python3.10/dist-packages (from yfinance==0.1.80) (2.0.3)\n",
            "Requirement already satisfied: numpy>=1.15 in /usr/local/lib/python3.10/dist-packages (from yfinance==0.1.80) (1.25.2)\n",
            "Requirement already satisfied: requests>=2.26 in /usr/local/lib/python3.10/dist-packages (from yfinance==0.1.80) (2.31.0)\n",
            "Requirement already satisfied: multitasking>=0.0.7 in /usr/local/lib/python3.10/dist-packages (from yfinance==0.1.80) (0.0.11)\n",
            "Requirement already satisfied: lxml>=4.5.1 in /usr/local/lib/python3.10/dist-packages (from yfinance==0.1.80) (4.9.4)\n",
            "Collecting appdirs>=1.4.4 (from yfinance==0.1.80)\n",
            "  Downloading appdirs-1.4.4-py2.py3-none-any.whl (9.6 kB)\n",
            "Requirement already satisfied: python-dateutil>=2.8.2 in /usr/local/lib/python3.10/dist-packages (from pandas>=0.24.0->yfinance==0.1.80) (2.8.2)\n",
            "Requirement already satisfied: pytz>=2020.1 in /usr/local/lib/python3.10/dist-packages (from pandas>=0.24.0->yfinance==0.1.80) (2023.4)\n",
            "Requirement already satisfied: tzdata>=2022.1 in /usr/local/lib/python3.10/dist-packages (from pandas>=0.24.0->yfinance==0.1.80) (2024.1)\n",
            "Requirement already satisfied: charset-normalizer<4,>=2 in /usr/local/lib/python3.10/dist-packages (from requests>=2.26->yfinance==0.1.80) (3.3.2)\n",
            "Requirement already satisfied: idna<4,>=2.5 in /usr/local/lib/python3.10/dist-packages (from requests>=2.26->yfinance==0.1.80) (3.7)\n",
            "Requirement already satisfied: urllib3<3,>=1.21.1 in /usr/local/lib/python3.10/dist-packages (from requests>=2.26->yfinance==0.1.80) (2.0.7)\n",
            "Requirement already satisfied: certifi>=2017.4.17 in /usr/local/lib/python3.10/dist-packages (from requests>=2.26->yfinance==0.1.80) (2024.2.2)\n",
            "Requirement already satisfied: six>=1.5 in /usr/local/lib/python3.10/dist-packages (from python-dateutil>=2.8.2->pandas>=0.24.0->yfinance==0.1.80) (1.16.0)\n",
            "Installing collected packages: appdirs, yfinance\n",
            "  Attempting uninstall: yfinance\n",
            "    Found existing installation: yfinance 0.2.40\n",
            "    Uninstalling yfinance-0.2.40:\n",
            "      Successfully uninstalled yfinance-0.2.40\n",
            "Successfully installed appdirs-1.4.4 yfinance-0.1.80\n",
            "Collecting https://github.com/buguroo/pyknow/archive/v1.7.0.tar.gz\n",
            "  Using cached https://github.com/buguroo/pyknow/archive/v1.7.0.tar.gz (1.4 MB)\n",
            "  Preparing metadata (setup.py) ... \u001b[?25l\u001b[?25hdone\n",
            "Requirement already satisfied: frozendict==1.2 in /usr/local/lib/python3.10/dist-packages (from pyknow==1.7.0) (1.2)\n",
            "Requirement already satisfied: schema==0.6.7 in /usr/local/lib/python3.10/dist-packages (from pyknow==1.7.0) (0.6.7)\n"
          ]
        }
      ],
      "source": [
        "!pip install yfinance==0.1.80\n",
        "!pip install https://github.com/buguroo/pyknow/archive/v1.7.0.tar.gz"
      ]
    },
    {
      "cell_type": "code",
      "execution_count": 1,
      "metadata": {
        "id": "P83GeQS5RnL_"
      },
      "outputs": [],
      "source": [
        "import collections\n",
        "import collections.abc\n",
        "\n",
        "if not hasattr(collections, 'Mapping'):\n",
        "  collections.Mapping = collections.abc.Mapping"
      ]
    },
    {
      "cell_type": "code",
      "execution_count": 2,
      "metadata": {
        "id": "dEmO_-Tuzgh7"
      },
      "outputs": [],
      "source": [
        "from pyknow import Rule, Fact, Field, KnowledgeEngine, DefFacts, NOT, MATCH, AS\n",
        "import random"
      ]
    },
    {
      "cell_type": "code",
      "execution_count": 3,
      "metadata": {
        "colab": {
          "base_uri": "https://localhost:8080/"
        },
        "id": "AWZhsR6E4-2M",
        "outputId": "ef1554e0-cfee-4b29-936c-b8e409d66ed7"
      },
      "outputs": [
        {
          "name": "stdout",
          "output_type": "stream",
          "text": [
            "^C\n"
          ]
        }
      ],
      "source": [
        "!python"
      ]
    },
    {
      "cell_type": "markdown",
      "metadata": {
        "id": "w_XIiG14UTjx"
      },
      "source": [
        "# Classes"
      ]
    },
    {
      "cell_type": "markdown",
      "metadata": {
        "id": "24XibL6hUYCk"
      },
      "source": [
        "## WinTotals"
      ]
    },
    {
      "cell_type": "code",
      "execution_count": 4,
      "metadata": {
        "id": "4t0lsjKlUaUo"
      },
      "outputs": [],
      "source": [
        "class WinTotals(Fact):\n",
        "    human = Field(int, default=0)\n",
        "    computer = Field(int, default=0)\n",
        "    ties = Field(int, default=0)"
      ]
    },
    {
      "cell_type": "markdown",
      "metadata": {
        "id": "JBTnFHgSUeHp"
      },
      "source": [
        "## Results"
      ]
    },
    {
      "cell_type": "code",
      "execution_count": 5,
      "metadata": {
        "id": "ZxvfODISUg_h"
      },
      "outputs": [],
      "source": [
        "class Results(Fact):\n",
        "    winner = Field(str, mandatory=True)\n",
        "    loser = Field(str, mandatory=True)\n",
        "    why = Field(str, mandatory=True)"
      ]
    },
    {
      "cell_type": "markdown",
      "metadata": {
        "id": "a2egmwPEUlg6"
      },
      "source": [
        "## ValidAnswer"
      ]
    },
    {
      "cell_type": "code",
      "execution_count": 6,
      "metadata": {
        "id": "Np3zY2k3Unv5"
      },
      "outputs": [],
      "source": [
        "class ValidAnswer(Fact):\n",
        "    answer = Field(str, mandatory=True)\n",
        "    key = Field(str, mandatory=True)"
      ]
    },
    {
      "cell_type": "markdown",
      "metadata": {
        "id": "C3UVVV3VVZ5t"
      },
      "source": [
        "## Action, HumanChoice, ComputerChoice"
      ]
    },
    {
      "cell_type": "code",
      "execution_count": 7,
      "metadata": {
        "id": "M-fDOX4dVeQJ"
      },
      "outputs": [],
      "source": [
        "class Action(Fact):\n",
        "    pass\n",
        "\n",
        "\n",
        "class HumanChoice(Fact):\n",
        "    pass\n",
        "\n",
        "\n",
        "class ComputerChoice(Fact):\n",
        "    pass"
      ]
    },
    {
      "cell_type": "markdown",
      "metadata": {
        "id": "j_-ABPvOViAO"
      },
      "source": [
        "## RockPaperScissors"
      ]
    },
    {
      "cell_type": "markdown",
      "metadata": {
        "id": "sZyQeSis6MEd"
      },
      "source": [
        "# Play"
      ]
    },
    {
      "cell_type": "code",
      "execution_count": 8,
      "metadata": {
        "id": "pg51bvnRBXKX"
      },
      "outputs": [],
      "source": [
        "class RockPaperScissors(KnowledgeEngine):\n",
        "\n",
        "    def yes_or_no(self, question):\n",
        "        return input(question).upper().startswith('Y')\n",
        "\n",
        "    @DefFacts()\n",
        "    def game_rules(self):\n",
        "        \"\"\"Declare game rules and valid input keys for the user.\"\"\"\n",
        "        self.valid_answers = dict()\n",
        "\n",
        "        yield Results(winner='rock', loser='scissors', why='Rock smashes scissors')\n",
        "        yield Results(winner='paper', loser='rock', why='Paper covers rock')\n",
        "        yield Results(winner='scissors', loser='paper', why='Scissors cut paper')\n",
        "        yield ValidAnswer(answer='rock', key='r')\n",
        "        yield ValidAnswer(answer='paper', key='p')\n",
        "        yield ValidAnswer(answer='scissors', key='s')\n",
        "\n",
        "\n",
        "\n",
        "    @Rule()\n",
        "    def startup(self):\n",
        "        print(\"Lets play a game!\")\n",
        "        print(\"You choose rock, paper, or scissors,\")\n",
        "        print(\"and I'll do the same.\")\n",
        "        self.declare(WinTotals(human=0, computer=0, ties=0))\n",
        "        self.declare(Action('get-human-move'))\n",
        "\n",
        "    @Rule(NOT(Action()),\n",
        "          ValidAnswer(answer=MATCH.answer,\n",
        "                      key=MATCH.key))\n",
        "    def store_valid_answers(self, answer, key):\n",
        "        self.valid_answers[key] = answer\n",
        "\n",
        "    #\n",
        "    # HUMAN MOVE RULES\n",
        "    #\n",
        "    @Rule(Action('get-human-move'))\n",
        "    def get_human_move(self):\n",
        "        print('\\t\\t in get_human_move() --> declaring HumanChoice')\n",
        "        question = \", \".join(\n",
        "            \"{name} ({key})\".format(\n",
        "                name=a[1].title(), key=a[0].upper())\n",
        "            for a in self.valid_answers.items()) + '? '\n",
        "        res = input(question).lower()\n",
        "        self.declare(HumanChoice(res))\n",
        "\n",
        "    @Rule(AS.f1 << HumanChoice(MATCH.choice),\n",
        "          ValidAnswer(answer=MATCH.answer,\n",
        "                      key=MATCH.choice),\n",
        "          AS.f2 << Action('get-human-move'))\n",
        "    def good_human_move(self, f1, f2, answer):\n",
        "        self.retract(f1) # HumanChoice\n",
        "        self.retract(f2) # Action('get-human-move')\n",
        "        self.declare(HumanChoice(answer))\n",
        "        self.declare(Action('get-computer-move'))\n",
        "\n",
        "    @Rule(AS.f1 << HumanChoice(MATCH.choice),\n",
        "          NOT(ValidAnswer(key=MATCH.choice)),\n",
        "          AS.f2 << Action('get-human-move'))\n",
        "    def bad_human_move(self, f1, f2, choice):\n",
        "        print('\\t\\t in bad_human_move() --> declaring get-human-move')\n",
        "        print(\"Sorry %s is not a valid answer\" % choice)\n",
        "        self.retract(f1)\n",
        "        self.retract(f2)\n",
        "        self.declare(Action('get-human-move'))\n",
        "\n",
        "    #\n",
        "    # COMPUTER MOVE RULES\n",
        "    #\n",
        "    @Rule(AS.f1 << Action('get-computer-move'))\n",
        "    def get_computer_move(self, f1):\n",
        "        choice = random.choice(list(self.valid_answers.values()))\n",
        "        print(f'\\t\\t in get-computer-move computer selected{choice}')\n",
        "        self.retract(f1) # get-computer-move\n",
        "        self.declare(ComputerChoice(choice))\n",
        "        self.declare(Action('determine-results'))\n",
        "\n",
        "    #\n",
        "    # WIN DETERMINATION RULES\n",
        "    #\n",
        "    @Rule(AS.f1 << Action('determine-results'),\n",
        "          AS.f2 << ComputerChoice(MATCH.cc),\n",
        "          AS.f3 << HumanChoice(MATCH.hc),\n",
        "          AS.win_totals << WinTotals(computer=MATCH.cw),\n",
        "          Results(winner=MATCH.cc,\n",
        "                  loser=MATCH.hc,\n",
        "                  why=MATCH.explanation))\n",
        "    def computer_wins(self, f1, f2, f3, win_totals, cw, explanation):\n",
        "        print(f'\\t\\t computer_wins()')\n",
        "        self.retract(f1) # determine-results\n",
        "        self.retract(f2) # ComputerChoice\n",
        "        self.retract(f3) # HumanChoice\n",
        "        self.modify(win_totals, computer=cw + 1)\n",
        "        print(\"Computer wins!\", explanation)\n",
        "        self.declare(Action('determine-play-again'))\n",
        "\n",
        "    @Rule(AS.f1 << Action('determine-results'),\n",
        "          AS.f2 << ComputerChoice(MATCH.cc),\n",
        "          AS.f3 << HumanChoice(MATCH.hc),\n",
        "          AS.win_totals << WinTotals(human=MATCH.hw),\n",
        "          Results(winner=MATCH.hc,\n",
        "                  loser=MATCH.cc,\n",
        "                  why=MATCH.explanation))\n",
        "    def humans_wins(self, f1, f2, f3, win_totals, hw, explanation):\n",
        "        self.retract(f1) # 'determine-results'\n",
        "        self.retract(f2) # ComputerChoice\n",
        "        self.retract(f3) # HumanChoice\n",
        "        self.modify(win_totals, human=hw + 1)\n",
        "        print(\"You win!\", explanation)\n",
        "        self.declare(Action('determine-play-again'))\n",
        "\n",
        "\n",
        "    @Rule(AS.f1 << Action('determine-results'),\n",
        "          AS.f2 << ComputerChoice(MATCH.cc),\n",
        "          AS.f3 << HumanChoice(MATCH.hc),\n",
        "          AS.ties_count << WinTotals(ties=MATCH.nt))\n",
        "    def tie(self, f1, f2, f3, ties_count):\n",
        "        self.retract(f1)\n",
        "        self.retract(f2)\n",
        "        self.retract(f3)\n",
        "        self.modify(ties_count, ties=1)\n",
        "        print(\"Tie! Ha-ha!\")\n",
        "        self.declare(Action('determine-play-again'))\n",
        "\n",
        "    #\n",
        "    # PLAY AGAIN RULE\n",
        "    #\n",
        "    @Rule(AS.f1 << Action('determine-play-again'),\n",
        "          WinTotals(computer=MATCH.ct,\n",
        "                    human=MATCH.ht,\n",
        "                    ties=MATCH.tt))\n",
        "    def play_again(self, f1, ct, ht, tt):\n",
        "        self.retract(f1) # 'determine-play-again'\n",
        "        if not self.yes_or_no(\"Play again?\"):\n",
        "            print(\"You won\", ht, \"game(s).\")\n",
        "            print(\"Computer won\", ct, \"game(s).\")\n",
        "            print(\"We tied\", tt, \"game(s).\")\n",
        "            self.halt()\n",
        "        else:\n",
        "            self.declare(Action('get-human-move'))"
      ]
    },
    {
      "cell_type": "code",
      "execution_count": 9,
      "metadata": {
        "id": "k50k3Lym2i04"
      },
      "outputs": [],
      "source": [
        "rps = RockPaperScissors()"
      ]
    },
    {
      "cell_type": "code",
      "execution_count": 14,
      "metadata": {
        "colab": {
          "base_uri": "https://localhost:8080/"
        },
        "id": "LzVmMwp8Bigj",
        "outputId": "81863116-ecd8-44ae-8e86-84266e042a65"
      },
      "outputs": [
        {
          "name": "stdout",
          "output_type": "stream",
          "text": [
            "Lets play a game!\n",
            "You choose rock, paper, or scissors,\n",
            "and I'll do the same.\n",
            "\t\t in get_human_move() --> declaring HumanChoice\n",
            "\t\t in get-computer-move computer selectedrock\n",
            "\t\t computer_wins()\n",
            "Computer wins! Rock smashes scissors\n",
            "You won 0 game(s).\n",
            "Computer won 1 game(s).\n",
            "We tied 0 game(s).\n"
          ]
        }
      ],
      "source": [
        "rps.reset()\n",
        "rps.run()"
      ]
    }
  ],
  "metadata": {
    "colab": {
      "provenance": []
    },
    "kernelspec": {
      "display_name": "Python 3",
      "name": "python3"
    }
  },
  "nbformat": 4,
  "nbformat_minor": 0
}
